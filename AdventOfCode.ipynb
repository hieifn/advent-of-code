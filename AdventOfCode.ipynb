{
 "cells": [
  {
   "cell_type": "markdown",
   "metadata": {},
   "source": [
    "### This jupyter is intended to show and develop Advent of Code\n",
    "https://adventofcode.com/2020"
   ]
  },
  {
   "cell_type": "markdown",
   "metadata": {},
   "source": [
    "#### Firts challenge"
   ]
  },
  {
   "cell_type": "markdown",
   "metadata": {},
   "source": [
    "Specifically, they need you to find the two entries that sum to 2020 and then multiply those two numbers together.\n",
    "Ex:\n",
    "For example, suppose your expense report contained the following:\n",
    "\n",
    "1721\n",
    "979\n",
    "366\n",
    "299\n",
    "675\n",
    "1456\n",
    "\n",
    "In this list, the two entries that sum to 2020 are 1721 and 299. Multiplying them together produces 1721 * 299 = 514579, so the correct answer is 514579."
   ]
  },
  {
   "cell_type": "code",
   "execution_count": 1,
   "metadata": {},
   "outputs": [],
   "source": [
    "import numpy as np\n",
    "import matplotlib.pyplot as plt\n",
    "import time\n",
    "import re\n",
    "import mymodule as mx"
   ]
  },
  {
   "cell_type": "code",
   "execution_count": 66,
   "metadata": {},
   "outputs": [
    {
     "name": "stdout",
     "output_type": "stream",
     "text": [
      "888331\n"
     ]
    }
   ],
   "source": [
    "def return_sum_two_dig(inputOne):\n",
    "    for a in inputOne:\n",
    "        for b in inputOne:\n",
    "            if a + b == 2020:\n",
    "                return a*b\n",
    "\n",
    "print(return_sum_two_dig(mx.challenge['firstInput']))"
   ]
  },
  {
   "cell_type": "markdown",
   "metadata": {},
   "source": [
    "#### First Challenge, part II"
   ]
  },
  {
   "cell_type": "markdown",
   "metadata": {},
   "source": [
    "In your expense report, what is the product of the three entries that sum to 2020?"
   ]
  },
  {
   "cell_type": "code",
   "execution_count": 3,
   "metadata": {},
   "outputs": [
    {
     "name": "stdout",
     "output_type": "stream",
     "text": [
      "total time:  0.025933027267456055 result:  130933530\n"
     ]
    }
   ],
   "source": [
    "## cleaning possibilities\n",
    "def find_sum(inputList):\n",
    "    start = time.time()\n",
    "    copyList = inputList.copy()\n",
    "    \n",
    "    for idx, a in enumerate(copyList):\n",
    "        for b in copyList:\n",
    "            for c in copyList:\n",
    "                if a + b + c == 2020:\n",
    "                    end = time.time()\n",
    "                    finalTime = end - start\n",
    "                    return finalTime, a, b, c\n",
    "        copyList.pop(idx)\n",
    "    return \"ha\", \"se\", \"fu\", \"deu\"\n",
    "\n",
    "\n",
    "finalTime, a1, b1, c1 = find_sum(mx.challenge['secondInput'])\n",
    "print(\"total time: \", finalTime, \"result: \", a1*b1*c1)\n"
   ]
  },
  {
   "cell_type": "code",
   "execution_count": 4,
   "metadata": {},
   "outputs": [
    {
     "name": "stdout",
     "output_type": "stream",
     "text": [
      "total time:  0.05399894714355469 result:  130933530\n"
     ]
    }
   ],
   "source": [
    "## brute way\n",
    "def find_sum(inputList):\n",
    "    start = time.time()\n",
    "    copyList = inputList.copy()\n",
    "    \n",
    "    for idx, a in enumerate(copyList):\n",
    "        for b in copyList:\n",
    "            for c in copyList:\n",
    "                if a + b + c == 2020:\n",
    "                    end = time.time()\n",
    "                    finalTime = end - start\n",
    "                    return finalTime, a, b, c\n",
    "    return \"ha\", \"se\", \"fu\", \"deu\"\n",
    "\n",
    "\n",
    "finalTime, a1, b1, c1 = find_sum(mx.challenge['secondInput'])\n",
    "print(\"total time: \", finalTime, \"result: \", a1*b1*c1)"
   ]
  },
  {
   "cell_type": "markdown",
   "metadata": {},
   "source": [
    "#### Second Challenge"
   ]
  },
  {
   "cell_type": "markdown",
   "metadata": {},
   "source": [
    "To try to debug the problem, they have created a list (your puzzle input) of passwords (according to the corrupted database) and the corporate policy when that password was set.\n",
    "\n",
    "For example, suppose you have the following list:\n",
    "\n",
    "1-3 a: abcde\n",
    "1-3 b: cdefg\n",
    "2-9 c: ccccccccc\n",
    "\n",
    "Each line gives the password policy and then the password. The password policy indicates the lowest and highest number of times a given letter must appear for the password to be valid. For example, 1-3 a means that the password must contain a at least 1 time and at most 3 times.\n",
    "\n",
    "In the above example, 2 passwords are valid. The middle password, cdefg, is not; it contains no instances of b, but needs at least 1. The first and third passwords are valid: they contain one a or nine c, both within the limits of their respective policies."
   ]
  },
  {
   "cell_type": "code",
   "execution_count": 5,
   "metadata": {},
   "outputs": [
    {
     "name": "stdout",
     "output_type": "stream",
     "text": [
      "total time:  0.0006144046783447266 total wrongs pws:  467\n"
     ]
    }
   ],
   "source": [
    "def find_wrong_pwds(pwList):\n",
    "    start = time.time()\n",
    "    wrongPws = []\n",
    "    copyList = pwList.copy()\n",
    "    for value in copyList:\n",
    "        [minValueStr, maxValuestr] = value[0].split(\"-\")    \n",
    "        if value[3].count(value[1]) > int(maxValuestr) or value[3].count(value[1]) < int(minValueStr):\n",
    "            wrongPws.append(value)\n",
    "            \n",
    "    end = time.time()\n",
    "    return end - start, len(pwList) - len(wrongPws)\n",
    "\n",
    "totalTime, totalWrongs = find_wrong_pwds(mx.challenge['thirdInput'])\n",
    "\n",
    "print(\"total time: \", totalTime, \"total wrongs pws: \", totalWrongs)"
   ]
  },
  {
   "cell_type": "markdown",
   "metadata": {},
   "source": [
    "#### Second Challenge Part II"
   ]
  },
  {
   "cell_type": "code",
   "execution_count": 7,
   "metadata": {},
   "outputs": [
    {
     "name": "stdout",
     "output_type": "stream",
     "text": [
      "total time:  0.00044417381286621094 total wrongs pws:  441\n"
     ]
    }
   ],
   "source": [
    "def find_wrong_pwds_with_new_policy(pwList):\n",
    "    start = time.time()\n",
    "    rightPws = []\n",
    "    copyList = pwList.copy()\n",
    "    for value in copyList:\n",
    "        [firstIndex, secondIndex] = value[0].split(\"-\")    \n",
    "        if (value[3][int(firstIndex)-1] == value[1]) ^ (value[3][int(secondIndex)-1] == value[1]):\n",
    "            rightPws.append(value)\n",
    "            \n",
    "    end = time.time()\n",
    "    return end - start, len(rightPws), rightPws\n",
    "\n",
    "totalTime, totalWrongs, rightPws = find_wrong_pwds_with_new_policy(mx.challenge['thirdInput'])\n",
    "\n",
    "print(\"total time: \", totalTime, \"total wrongs pws: \", totalWrongs)"
   ]
  },
  {
   "cell_type": "markdown",
   "metadata": {},
   "source": [
    "#### Third Challenge (Paths)"
   ]
  },
  {
   "cell_type": "markdown",
   "metadata": {},
   "source": [
    "You start on the open square (.) in the top-left corner and need to reach the bottom (below the bottom-most row on your map).\n",
    "\n",
    "The toboggan can only follow a few specific slopes (you opted for a cheaper model that prefers rational numbers); start by counting all the trees you would encounter for the slope right 3, down 1:\n",
    "\n",
    "From your starting position at the top-left, check the position that is right 3 and down 1. Then, check the position that is right 3 and down 1 from there, and so on until you go past the bottom of the map.\n",
    "\n",
    "The locations you'd check in the above example are marked here with O where there was an open square and X where there was a tree:\n",
    "\n",
    "..##.........##.........##.........##.........##.........##.......  --->\n",
    "#..O#...#..#...#...#..#...#...#..#...#...#..#...#...#..#...#...#..\n",
    ".#....X..#..#....#..#..#....#..#..#....#..#..#....#..#..#....#..#.\n",
    "..#.#...#O#..#.#...#.#..#.#...#.#..#.#...#.#..#.#...#.#..#.#...#.#\n",
    ".#...##..#..X...##..#..#...##..#..#...##..#..#...##..#..#...##..#.\n",
    "..#.##.......#.X#.......#.##.......#.##.......#.##.......#.##.....  --->\n",
    ".#.#.#....#.#.#.#.O..#.#.#.#....#.#.#.#....#.#.#.#....#.#.#.#....#\n",
    ".#........#.#........X.#........#.#........#.#........#.#........#\n",
    "#.##...#...#.##...#...#.X#...#...#.##...#...#.##...#...#.##...#...\n",
    "#...##....##...##....##...#X....##...##....##...##....##...##....#\n",
    ".#..#...#.#.#..#...#.#.#..#...X.#.#..#...#.#.#..#...#.#.#..#...#.#  --->\n",
    "\n",
    "In this example, traversing the map using this slope would cause you to encounter 7 trees.\n",
    "\n",
    "Starting at the top-left corner of your map and following a slope of right 3 and down 1, how many trees would you encounter?"
   ]
  },
  {
   "cell_type": "code",
   "execution_count": 61,
   "metadata": {},
   "outputs": [
    {
     "data": {
      "text/plain": [
       "323"
      ]
     },
     "execution_count": 61,
     "metadata": {},
     "output_type": "execute_result"
    }
   ],
   "source": [
    "len(mx.challenge['pathsList'])"
   ]
  },
  {
   "cell_type": "code",
   "execution_count": 62,
   "metadata": {},
   "outputs": [],
   "source": [
    "threesPositions = [[pos for pos, char in enumerate(line[0]) if char == '#'] for idx, line in enumerate(mx.challenge['pathsList'])]"
   ]
  },
  {
   "cell_type": "code",
   "execution_count": 63,
   "metadata": {},
   "outputs": [
    {
     "name": "stdout",
     "output_type": "stream",
     "text": [
      "46\n"
     ]
    }
   ],
   "source": [
    "def count_hitted_trees(posTreeList, slope):\n",
    "    copyList = posTreeList.copy()\n",
    "    [hrt, vrt] = slope\n",
    "    \n",
    "    hittedTrees = 0\n",
    "    for idx, line in enumerate(copyList):\n",
    "        if not (idx % (vrt)):\n",
    "            walkPosition = int(idx/vrt)*hrt % 31\n",
    "\n",
    "            if (walkPosition in line):\n",
    "                hittedTrees += 1\n",
    "\n",
    "    return hittedTrees\n",
    "\n",
    "hittedTrees = count_hitted_trees(threesPositions, (1,2))\n",
    "print(hittedTrees)"
   ]
  },
  {
   "cell_type": "markdown",
   "metadata": {},
   "source": [
    "#### Third Challange Part II"
   ]
  },
  {
   "cell_type": "markdown",
   "metadata": {},
   "source": [
    "Changing slope\n",
    "\n",
    "    Right 1, down 1.\n",
    "    Right 3, down 1. (This is the slope you already checked.)\n",
    "    Right 5, down 1.\n",
    "    Right 7, down 1.\n",
    "    Right 1, down 2.\n"
   ]
  },
  {
   "cell_type": "code",
   "execution_count": 64,
   "metadata": {},
   "outputs": [
    {
     "name": "stdout",
     "output_type": "stream",
     "text": [
      "[94, 214, 99, 91, 46] 8336352024\n"
     ]
    }
   ],
   "source": [
    "from functools import reduce\n",
    "hittedTreesList = [count_hitted_trees(threesPositions, slope) for slope in [(1,1), (3,1), (5,1), (7,1), (1,2)]]\n",
    "multplication = reduce(lambda x, y: x*y, hittedTreesList)\n",
    "print(hittedTreesList, multplication)"
   ]
  },
  {
   "cell_type": "markdown",
   "metadata": {},
   "source": [
    "#### Fourth Challenge"
   ]
  },
  {
   "cell_type": "markdown",
   "metadata": {},
   "source": [
    "\n",
    "    byr (Birth Year)\n",
    "    iyr (Issue Year)\n",
    "    eyr (Expiration Year)\n",
    "    hgt (Height)\n",
    "    hcl (Hair Color)\n",
    "    ecl (Eye Color)\n",
    "    pid (Passport ID)\n",
    "    cid (Country ID)\n"
   ]
  },
  {
   "cell_type": "code",
   "execution_count": 18,
   "metadata": {},
   "outputs": [
    {
     "data": {
      "text/plain": [
       "26363"
      ]
     },
     "execution_count": 18,
     "metadata": {},
     "output_type": "execute_result"
    }
   ],
   "source": [
    "len(mx.challenge['txtFile'])"
   ]
  },
  {
   "cell_type": "code",
   "execution_count": 27,
   "metadata": {},
   "outputs": [],
   "source": [
    "splittedTxt = mx.challenge['txtFile'].replace('        ', '').replace(' ','\\n').split('\\n')"
   ]
  },
  {
   "cell_type": "markdown",
   "metadata": {},
   "source": [
    "##### Processing input textFile"
   ]
  },
  {
   "cell_type": "code",
   "execution_count": 32,
   "metadata": {},
   "outputs": [],
   "source": [
    "def process_input_text_file(txtFile):\n",
    "    splittedTxt = txtFile.replace('        ', '').replace(' ','\\n').split('\\n')\n",
    "    listDict = []\n",
    "    test = {}\n",
    "    for string in splittedTxt:\n",
    "        if (string == ''):\n",
    "            listDict.append(test)\n",
    "            test = {}\n",
    "        else:\n",
    "            [key, value] = string.split(':')\n",
    "            test[key] = value\n",
    "    return listDict\n",
    "\n",
    "listDict = process_input_text_file(mx.challenge['txtFile'])"
   ]
  },
  {
   "cell_type": "code",
   "execution_count": 34,
   "metadata": {},
   "outputs": [
    {
     "data": {
      "text/plain": [
       "[{'hgt': '159cm',\n",
       "  'pid': '561068005',\n",
       "  'eyr': '2025',\n",
       "  'iyr': '2017',\n",
       "  'cid': '139',\n",
       "  'ecl': 'blu',\n",
       "  'hcl': '#ceb3a1',\n",
       "  'byr': '1940'},\n",
       " {'iyr': '2014',\n",
       "  'byr': '1986',\n",
       "  'pid': '960679613',\n",
       "  'eyr': '2025',\n",
       "  'ecl': 'hzl'}]"
      ]
     },
     "execution_count": 34,
     "metadata": {},
     "output_type": "execute_result"
    }
   ],
   "source": [
    "listDict[0:2]"
   ]
  },
  {
   "cell_type": "markdown",
   "metadata": {},
   "source": [
    "#### Processing and validating data"
   ]
  },
  {
   "cell_type": "code",
   "execution_count": 35,
   "metadata": {},
   "outputs": [
    {
     "name": "stdout",
     "output_type": "stream",
     "text": [
      "192 hgt 3\n",
      "invalid literal for int() with base 10: '186cm' 186cm pid 25\n",
      "invalid literal for int() with base 10: '#4e4a46' #4e4a46 pid 38\n",
      "invalid literal for int() with base 10: '#ab3597' #ab3597 pid 48\n",
      "invalid literal for int() with base 10: '#5b1362' #5b1362 pid 180\n",
      "invalid literal for int() with base 10: '174cm' 174cm pid 189\n",
      "96 hgt 200\n",
      "136 hgt 210\n",
      "invalid literal for int() with base 10: '#885c1a' #885c1a pid 228\n"
     ]
    }
   ],
   "source": [
    "import re\n",
    "\n",
    "def validate_value(value, typo, idx):\n",
    "    try:\n",
    "        # byr (Birth Year) - four digits; at least 1920 and at most 2002.\n",
    "        if (typo == 'byr'):\n",
    "            return (len(value) == 4 and (int(value) > 1919) and (int(value) < 2003))\n",
    "\n",
    "        # iyr (Issue Year) - four digits; at least 2010 and at most 2020.\n",
    "        elif (typo == 'iyr'):\n",
    "            return (len(value) == 4) and (int(value) > 2009) and (int(value) < 2021)\n",
    "\n",
    "        # eyr (Expiration Year) - four digits; at least 2020 and at most 2030.\n",
    "        elif (typo == 'eyr'):\n",
    "            return (len(value) == 4) and (int(value) > 2019) and (int(value) < 2031)\n",
    "        \n",
    "        # hgt (Height) - a number followed by either cm or in:\n",
    "        #   If cm, the number must be at least 150 and at most 193.\n",
    "        #   If in, the number must be at least 59 and at most 76.\n",
    "        elif (typo == 'hgt'):\n",
    "            if (\"cm\" in value):\n",
    "                heightInt = int(value.replace('cm',''))\n",
    "                return heightInt > 149 and heightInt < 194\n",
    "            elif (\"in\" in value):\n",
    "                heightInt = int(value.replace('in',''))\n",
    "                return heightInt > 58 and heightInt < 77\n",
    "            \n",
    "        # hcl (Hair Color) - a # followed by exactly six characters 0-9 or a-f.\n",
    "        elif (typo == 'hcl'):\n",
    "            return bool(re.match(r'^#(?:[0-9a-fA-F]{3}){1,2}$', value))\n",
    "        \n",
    "        # ecl (Eye Color) - exactly one of: amb blu brn gry grn hzl oth.\n",
    "        elif (typo == 'ecl'):\n",
    "            return (value in ['amb', 'blu', 'brn', 'gry', 'grn', 'hzl', 'oth'])\n",
    "        \n",
    "        # pid (Passport ID) - a nine-digit number, including leading zeroes.\n",
    "        elif (typo == 'pid'):\n",
    "            numericValue = int(value)\n",
    "            return len(value) == 9\n",
    "        \n",
    "        elif (typo == 'cid'):\n",
    "            return True\n",
    "        \n",
    "        \n",
    "        print(value, typo, idx)\n",
    "        return False\n",
    "\n",
    "    except Exception as e:\n",
    "        print(e, value, typo, idx)\n",
    "        return False\n",
    "\n",
    "def validate_list_values(passport, idx):\n",
    "    for (typo, value) in zip(passport.values(), passport.keys()):\n",
    "        if not validate_value(typo, value, idx):\n",
    "            return False\n",
    "\n",
    "    return True\n",
    "\n",
    "def find_valid_passports(listPassports):\n",
    "    return [idx for idx, passport in enumerate(listPassports) if set(['byr', 'iyr', 'eyr', 'hgt', 'hcl', 'ecl', 'pid']).issubset(passport.keys()) and validate_list_values(passport, idx)]\n",
    "\n",
    "indicies = find_valid_passports(listDict)"
   ]
  },
  {
   "cell_type": "code",
   "execution_count": 36,
   "metadata": {},
   "outputs": [
    {
     "data": {
      "text/plain": [
       "137"
      ]
     },
     "execution_count": 36,
     "metadata": {},
     "output_type": "execute_result"
    }
   ],
   "source": [
    "len(indicies)"
   ]
  },
  {
   "cell_type": "markdown",
   "metadata": {},
   "source": [
    "#### Fifth challenge"
   ]
  },
  {
   "cell_type": "code",
   "execution_count": 37,
   "metadata": {},
   "outputs": [
    {
     "data": {
      "text/plain": [
       "900"
      ]
     },
     "execution_count": 37,
     "metadata": {},
     "output_type": "execute_result"
    }
   ],
   "source": [
    "len(mx.challenge['seatList'])"
   ]
  },
  {
   "cell_type": "code",
   "execution_count": 40,
   "metadata": {},
   "outputs": [
    {
     "data": {
      "text/plain": [
       "'BFFFFBBRRL'"
      ]
     },
     "execution_count": 40,
     "metadata": {},
     "output_type": "execute_result"
    }
   ],
   "source": [
    "mx.challenge['seatList'][0]"
   ]
  },
  {
   "cell_type": "code",
   "execution_count": 41,
   "metadata": {},
   "outputs": [],
   "source": [
    "def get_seat_id_list(seatList):\n",
    "    rowIds = []\n",
    "    for seatMap in seatList:\n",
    "        rowPossibilities = list(range(0, 128))\n",
    "        colPossibilities = list(range(0, 8))\n",
    "        for coord in seatMap:\n",
    "            if (coord == 'F'):\n",
    "                comp = int(len(rowPossibilities) / 2 )\n",
    "                rowPossibilities = rowPossibilities[0 : comp]\n",
    "            elif (coord == 'B'):\n",
    "                comp = int(len(rowPossibilities) / 2 )\n",
    "                rowPossibilities = rowPossibilities[comp:]\n",
    "            elif (coord == 'L'):\n",
    "                comp = int(len(colPossibilities) / 2 )\n",
    "                colPossibilities = colPossibilities[:comp]\n",
    "            elif (coord == 'R'):\n",
    "                comp = int(len(colPossibilities) / 2 )\n",
    "                colPossibilities = colPossibilities[comp:]\n",
    "        rowIds.append((rowPossibilities[0]*8) + colPossibilities[0])\n",
    "    return rowIds\n",
    "        \n",
    "rowIds = get_seat_id_list(mx.challenge['seatList'])"
   ]
  },
  {
   "cell_type": "code",
   "execution_count": 42,
   "metadata": {},
   "outputs": [
    {
     "data": {
      "text/plain": [
       "989"
      ]
     },
     "execution_count": 42,
     "metadata": {},
     "output_type": "execute_result"
    }
   ],
   "source": [
    "max(rowIds)"
   ]
  },
  {
   "cell_type": "markdown",
   "metadata": {},
   "source": [
    "#### Fifth challenge part II"
   ]
  },
  {
   "cell_type": "code",
   "execution_count": 43,
   "metadata": {},
   "outputs": [],
   "source": [
    "rowIds.sort()"
   ]
  },
  {
   "cell_type": "code",
   "execution_count": 44,
   "metadata": {},
   "outputs": [
    {
     "data": {
      "text/plain": [
       "900"
      ]
     },
     "execution_count": 44,
     "metadata": {},
     "output_type": "execute_result"
    }
   ],
   "source": [
    "len(rowIds)"
   ]
  },
  {
   "cell_type": "code",
   "execution_count": 45,
   "metadata": {},
   "outputs": [
    {
     "name": "stdout",
     "output_type": "stream",
     "text": [
      "549 548 459\n"
     ]
    }
   ],
   "source": [
    "for idx, idRow in enumerate(rowIds):\n",
    "    if (idRow != idx + 89):\n",
    "        print(idRow, idx + 89, idx)\n",
    "        break"
   ]
  },
  {
   "cell_type": "code",
   "execution_count": 46,
   "metadata": {},
   "outputs": [
    {
     "data": {
      "text/plain": [
       "[547, 549]"
      ]
     },
     "execution_count": 46,
     "metadata": {},
     "output_type": "execute_result"
    }
   ],
   "source": [
    "rowIds[458:460]"
   ]
  },
  {
   "cell_type": "markdown",
   "metadata": {},
   "source": [
    "### Sixth Challenge"
   ]
  },
  {
   "cell_type": "code",
   "execution_count": 51,
   "metadata": {},
   "outputs": [
    {
     "data": {
      "text/plain": [
       "'jmcvr\\n        marvj\\n\\n        doh\\n        kdrmulsg\\n        ypde\\n        eyodf\\n        d\\n\\n        gneq'"
      ]
     },
     "execution_count": 51,
     "metadata": {},
     "output_type": "execute_result"
    }
   ],
   "source": [
    "mx.challenge['textInputQuestions'][0:100]"
   ]
  },
  {
   "cell_type": "code",
   "execution_count": 54,
   "metadata": {},
   "outputs": [],
   "source": [
    "def process_input_question_txt(textInputQuestions):\n",
    "    listQuestionsRaw = textInputQuestions.replace('        ', '').replace(' ','\\n').split('\\n')\n",
    "    groupAnswers = ''\n",
    "    listQuestionsGrouped = []\n",
    "    for answers in listQuestionsRaw:\n",
    "        if (answers == ''):\n",
    "            listNoDuplicates = list(set(groupAnswers))\n",
    "            listQuestionsGrouped.append(listNoDuplicates)\n",
    "            groupAnswers = ''\n",
    "        else:\n",
    "            groupAnswers = groupAnswers + answers\n",
    "    return listQuestionsGrouped\n",
    "\n",
    "finalQuestionsList = process_input_question_txt(mx.challenge['textInputQuestions'])"
   ]
  },
  {
   "cell_type": "code",
   "execution_count": 55,
   "metadata": {},
   "outputs": [
    {
     "data": {
      "text/plain": [
       "[['j', 'r', 'a', 'v', 'c', 'm'],\n",
       " ['g', 'u', 'p', 'f', 'h', 'r', 'd', 'k', 'l', 's', 'e', 'y', 'm', 'o']]"
      ]
     },
     "execution_count": 55,
     "metadata": {},
     "output_type": "execute_result"
    }
   ],
   "source": [
    "finalQuestionsList[0:2]"
   ]
  },
  {
   "cell_type": "code",
   "execution_count": 56,
   "metadata": {},
   "outputs": [
    {
     "name": "stdout",
     "output_type": "stream",
     "text": [
      "6170\n"
     ]
    }
   ],
   "source": [
    "summarize = reduce(lambda x, y: x+y, [len(questions) for questions in finalQuestionsList])\n",
    "print(summarize)"
   ]
  },
  {
   "cell_type": "markdown",
   "metadata": {},
   "source": [
    "#### Sixth Challenge part II"
   ]
  },
  {
   "cell_type": "code",
   "execution_count": 57,
   "metadata": {},
   "outputs": [],
   "source": [
    "def process_input_question_txt_intersection(textInputQuestions):\n",
    "    listQuestionsRaw = textInputQuestions.replace('        ', '').replace(' ','\\n').split('\\n')\n",
    "    groupAnswers = []\n",
    "    listQuestionsGrouped = []\n",
    "    for answers in listQuestionsRaw:\n",
    "        if (answers == ''):\n",
    "            intersection = reduce(set.intersection, groupAnswers)\n",
    "            listQuestionsGrouped.append(list(intersection))\n",
    "            groupAnswers = []\n",
    "        else:\n",
    "            groupAnswers.append(set(answers))\n",
    "    return listQuestionsGrouped\n",
    "\n",
    "finalQuestionsListIntersection = process_input_question_txt_intersection(mx.challenge['textInputQuestions'])"
   ]
  },
  {
   "cell_type": "code",
   "execution_count": 58,
   "metadata": {},
   "outputs": [
    {
     "data": {
      "text/plain": [
       "[['j', 'm', 'r', 'v'], ['d']]"
      ]
     },
     "execution_count": 58,
     "metadata": {},
     "output_type": "execute_result"
    }
   ],
   "source": [
    "finalQuestionsListIntersection[0:2]"
   ]
  },
  {
   "cell_type": "code",
   "execution_count": 59,
   "metadata": {},
   "outputs": [
    {
     "name": "stdout",
     "output_type": "stream",
     "text": [
      "2947\n"
     ]
    }
   ],
   "source": [
    "summarizeIntersection = reduce(lambda x, y: x+y, [len(questions) for questions in finalQuestionsListIntersection])\n",
    "print(summarizeIntersection)"
   ]
  }
 ],
 "metadata": {
  "kernelspec": {
   "display_name": "Python 3",
   "language": "python",
   "name": "python3"
  },
  "language_info": {
   "codemirror_mode": {
    "name": "ipython",
    "version": 3
   },
   "file_extension": ".py",
   "mimetype": "text/x-python",
   "name": "python",
   "nbconvert_exporter": "python",
   "pygments_lexer": "ipython3",
   "version": "3.8.2"
  }
 },
 "nbformat": 4,
 "nbformat_minor": 4
}
