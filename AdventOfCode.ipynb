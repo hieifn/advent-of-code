{
 "cells": [
  {
   "cell_type": "markdown",
   "metadata": {},
   "source": [
    "### This jupyter is intended to show and develop Advent of Code\n",
    "https://adventofcode.com/2020"
   ]
  },
  {
   "cell_type": "markdown",
   "metadata": {},
   "source": [
    "#### Firts challenge"
   ]
  },
  {
   "cell_type": "markdown",
   "metadata": {},
   "source": [
    "Specifically, they need you to find the two entries that sum to 2020 and then multiply those two numbers together.\n",
    "Ex:\n",
    "For example, suppose your expense report contained the following:\n",
    "\n",
    "1721\n",
    "979\n",
    "366\n",
    "299\n",
    "675\n",
    "1456\n",
    "\n",
    "In this list, the two entries that sum to 2020 are 1721 and 299. Multiplying them together produces 1721 * 299 = 514579, so the correct answer is 514579."
   ]
  },
  {
   "cell_type": "code",
   "execution_count": 2,
   "metadata": {},
   "outputs": [],
   "source": [
    "import numpy as np\n",
    "import time\n",
    "import re\n",
    "import mymodule as mx"
   ]
  },
  {
   "cell_type": "code",
   "execution_count": 3,
   "metadata": {},
   "outputs": [
    {
     "name": "stdout",
     "output_type": "stream",
     "text": [
      "888331\n"
     ]
    }
   ],
   "source": [
    "def return_sum_two_dig(inputOne):\n",
    "    for a in inputOne:\n",
    "        for b in inputOne:\n",
    "            if a + b == 2020:\n",
    "                return a*b\n",
    "\n",
    "print(return_sum_two_dig(mx.challenge['firstInput']))"
   ]
  },
  {
   "cell_type": "markdown",
   "metadata": {},
   "source": [
    "#### First Challenge, part II"
   ]
  },
  {
   "cell_type": "markdown",
   "metadata": {},
   "source": [
    "In your expense report, what is the product of the three entries that sum to 2020?"
   ]
  },
  {
   "cell_type": "code",
   "execution_count": 3,
   "metadata": {},
   "outputs": [
    {
     "name": "stdout",
     "output_type": "stream",
     "text": [
      "total time:  0.026598453521728516 result:  130933530\n"
     ]
    }
   ],
   "source": [
    "## cleaning possibilities\n",
    "def find_sum(inputList):\n",
    "    start = time.time()\n",
    "    copyList = inputList.copy()\n",
    "    \n",
    "    for idx, a in enumerate(copyList):\n",
    "        for b in copyList:\n",
    "            for c in copyList:\n",
    "                if a + b + c == 2020:\n",
    "                    end = time.time()\n",
    "                    finalTime = end - start\n",
    "                    return finalTime, a, b, c\n",
    "        copyList.pop(idx)\n",
    "    return \"ha\", \"se\", \"fu\", \"deu\"\n",
    "\n",
    "\n",
    "finalTime, a1, b1, c1 = find_sum(mx.challenge['secondInput'])\n",
    "print(\"total time: \", finalTime, \"result: \", a1*b1*c1)\n"
   ]
  },
  {
   "cell_type": "code",
   "execution_count": 4,
   "metadata": {},
   "outputs": [
    {
     "name": "stdout",
     "output_type": "stream",
     "text": [
      "total time:  0.05611085891723633 result:  130933530\n"
     ]
    }
   ],
   "source": [
    "## brute way\n",
    "def find_sum(inputList):\n",
    "    start = time.time()\n",
    "    copyList = inputList.copy()\n",
    "    \n",
    "    for idx, a in enumerate(copyList):\n",
    "        for b in copyList:\n",
    "            for c in copyList:\n",
    "                if a + b + c == 2020:\n",
    "                    end = time.time()\n",
    "                    finalTime = end - start\n",
    "                    return finalTime, a, b, c\n",
    "    return \"ha\", \"se\", \"fu\", \"deu\"\n",
    "\n",
    "\n",
    "finalTime, a1, b1, c1 = find_sum(mx.challenge['secondInput'])\n",
    "print(\"total time: \", finalTime, \"result: \", a1*b1*c1)"
   ]
  },
  {
   "cell_type": "markdown",
   "metadata": {},
   "source": [
    "#### Second Challenge"
   ]
  },
  {
   "cell_type": "markdown",
   "metadata": {},
   "source": [
    "To try to debug the problem, they have created a list (your puzzle input) of passwords (according to the corrupted database) and the corporate policy when that password was set.\n",
    "\n",
    "For example, suppose you have the following list:\n",
    "\n",
    "1-3 a: abcde\n",
    "1-3 b: cdefg\n",
    "2-9 c: ccccccccc\n",
    "\n",
    "Each line gives the password policy and then the password. The password policy indicates the lowest and highest number of times a given letter must appear for the password to be valid. For example, 1-3 a means that the password must contain a at least 1 time and at most 3 times.\n",
    "\n",
    "In the above example, 2 passwords are valid. The middle password, cdefg, is not; it contains no instances of b, but needs at least 1. The first and third passwords are valid: they contain one a or nine c, both within the limits of their respective policies."
   ]
  },
  {
   "cell_type": "code",
   "execution_count": 5,
   "metadata": {},
   "outputs": [
    {
     "name": "stdout",
     "output_type": "stream",
     "text": [
      "total time:  0.0007104873657226562 total wrongs pws:  467\n"
     ]
    }
   ],
   "source": [
    "def find_wrong_pwds(pwList):\n",
    "    start = time.time()\n",
    "    wrongPws = []\n",
    "    copyList = pwList.copy()\n",
    "    for value in copyList:\n",
    "        [minValueStr, maxValuestr] = value[0].split(\"-\")    \n",
    "        if value[3].count(value[1]) > int(maxValuestr) or value[3].count(value[1]) < int(minValueStr):\n",
    "            wrongPws.append(value)\n",
    "            \n",
    "    end = time.time()\n",
    "    return end - start, len(pwList) - len(wrongPws)\n",
    "\n",
    "totalTime, totalWrongs = find_wrong_pwds(mx.challenge['thirdInput'])\n",
    "\n",
    "print(\"total time: \", totalTime, \"total wrongs pws: \", totalWrongs)"
   ]
  },
  {
   "cell_type": "markdown",
   "metadata": {},
   "source": [
    "#### Second Challenge Part II"
   ]
  },
  {
   "cell_type": "code",
   "execution_count": 6,
   "metadata": {},
   "outputs": [
    {
     "name": "stdout",
     "output_type": "stream",
     "text": [
      "total time:  0.0004317760467529297 total wrongs pws:  441\n"
     ]
    }
   ],
   "source": [
    "def find_wrong_pwds_with_new_policy(pwList):\n",
    "    start = time.time()\n",
    "    rightPws = []\n",
    "    copyList = pwList.copy()\n",
    "    for value in copyList:\n",
    "        [firstIndex, secondIndex] = value[0].split(\"-\")    \n",
    "        if (value[3][int(firstIndex)-1] == value[1]) ^ (value[3][int(secondIndex)-1] == value[1]):\n",
    "            rightPws.append(value)\n",
    "            \n",
    "    end = time.time()\n",
    "    return end - start, len(rightPws), rightPws\n",
    "\n",
    "totalTime, totalWrongs, rightPws = find_wrong_pwds_with_new_policy(mx.challenge['thirdInput'])\n",
    "\n",
    "print(\"total time: \", totalTime, \"total wrongs pws: \", totalWrongs)"
   ]
  },
  {
   "cell_type": "markdown",
   "metadata": {},
   "source": [
    "#### Third Challenge (Paths)"
   ]
  },
  {
   "cell_type": "markdown",
   "metadata": {},
   "source": [
    "You start on the open square (.) in the top-left corner and need to reach the bottom (below the bottom-most row on your map).\n",
    "\n",
    "The toboggan can only follow a few specific slopes (you opted for a cheaper model that prefers rational numbers); start by counting all the trees you would encounter for the slope right 3, down 1:\n",
    "\n",
    "From your starting position at the top-left, check the position that is right 3 and down 1. Then, check the position that is right 3 and down 1 from there, and so on until you go past the bottom of the map.\n",
    "\n",
    "The locations you'd check in the above example are marked here with O where there was an open square and X where there was a tree:\n",
    "\n",
    "..##.........##.........##.........##.........##.........##.......  --->\n",
    "#..O#...#..#...#...#..#...#...#..#...#...#..#...#...#..#...#...#..\n",
    ".#....X..#..#....#..#..#....#..#..#....#..#..#....#..#..#....#..#.\n",
    "..#.#...#O#..#.#...#.#..#.#...#.#..#.#...#.#..#.#...#.#..#.#...#.#\n",
    ".#...##..#..X...##..#..#...##..#..#...##..#..#...##..#..#...##..#.\n",
    "..#.##.......#.X#.......#.##.......#.##.......#.##.......#.##.....  --->\n",
    ".#.#.#....#.#.#.#.O..#.#.#.#....#.#.#.#....#.#.#.#....#.#.#.#....#\n",
    ".#........#.#........X.#........#.#........#.#........#.#........#\n",
    "#.##...#...#.##...#...#.X#...#...#.##...#...#.##...#...#.##...#...\n",
    "#...##....##...##....##...#X....##...##....##...##....##...##....#\n",
    ".#..#...#.#.#..#...#.#.#..#...X.#.#..#...#.#.#..#...#.#.#..#...#.#  --->\n",
    "\n",
    "In this example, traversing the map using this slope would cause you to encounter 7 trees.\n",
    "\n",
    "Starting at the top-left corner of your map and following a slope of right 3 and down 1, how many trees would you encounter?"
   ]
  },
  {
   "cell_type": "code",
   "execution_count": 7,
   "metadata": {},
   "outputs": [
    {
     "data": {
      "text/plain": [
       "323"
      ]
     },
     "execution_count": 7,
     "metadata": {},
     "output_type": "execute_result"
    }
   ],
   "source": [
    "len(mx.challenge['pathsList'])"
   ]
  },
  {
   "cell_type": "code",
   "execution_count": 8,
   "metadata": {},
   "outputs": [],
   "source": [
    "threesPositions = [[pos for pos, char in enumerate(line[0]) if char == '#'] for idx, line in enumerate(mx.challenge['pathsList'])]"
   ]
  },
  {
   "cell_type": "code",
   "execution_count": 9,
   "metadata": {},
   "outputs": [
    {
     "name": "stdout",
     "output_type": "stream",
     "text": [
      "46\n"
     ]
    }
   ],
   "source": [
    "def count_hitted_trees(posTreeList, slope):\n",
    "    copyList = posTreeList.copy()\n",
    "    [hrt, vrt] = slope\n",
    "    \n",
    "    hittedTrees = 0\n",
    "    for idx, line in enumerate(copyList):\n",
    "        if not (idx % (vrt)):\n",
    "            walkPosition = int(idx/vrt)*hrt % 31\n",
    "\n",
    "            if (walkPosition in line):\n",
    "                hittedTrees += 1\n",
    "\n",
    "    return hittedTrees\n",
    "\n",
    "hittedTrees = count_hitted_trees(threesPositions, (1,2))\n",
    "print(hittedTrees)"
   ]
  },
  {
   "cell_type": "markdown",
   "metadata": {},
   "source": [
    "#### Third Challange Part II"
   ]
  },
  {
   "cell_type": "markdown",
   "metadata": {},
   "source": [
    "Changing slope\n",
    "\n",
    "    Right 1, down 1.\n",
    "    Right 3, down 1. (This is the slope you already checked.)\n",
    "    Right 5, down 1.\n",
    "    Right 7, down 1.\n",
    "    Right 1, down 2.\n"
   ]
  },
  {
   "cell_type": "code",
   "execution_count": 10,
   "metadata": {},
   "outputs": [
    {
     "name": "stdout",
     "output_type": "stream",
     "text": [
      "[94, 214, 99, 91, 46] 8336352024\n"
     ]
    }
   ],
   "source": [
    "from functools import reduce\n",
    "hittedTreesList = [count_hitted_trees(threesPositions, slope) for slope in [(1,1), (3,1), (5,1), (7,1), (1,2)]]\n",
    "multplication = reduce(lambda x, y: x*y, hittedTreesList)\n",
    "print(hittedTreesList, multplication)"
   ]
  },
  {
   "cell_type": "markdown",
   "metadata": {},
   "source": [
    "#### Fourth Challenge"
   ]
  },
  {
   "cell_type": "markdown",
   "metadata": {},
   "source": [
    "\n",
    "    byr (Birth Year)\n",
    "    iyr (Issue Year)\n",
    "    eyr (Expiration Year)\n",
    "    hgt (Height)\n",
    "    hcl (Hair Color)\n",
    "    ecl (Eye Color)\n",
    "    pid (Passport ID)\n",
    "    cid (Country ID)\n"
   ]
  },
  {
   "cell_type": "code",
   "execution_count": 11,
   "metadata": {},
   "outputs": [
    {
     "data": {
      "text/plain": [
       "26363"
      ]
     },
     "execution_count": 11,
     "metadata": {},
     "output_type": "execute_result"
    }
   ],
   "source": [
    "len(mx.challenge['txtFile'])"
   ]
  },
  {
   "cell_type": "code",
   "execution_count": 12,
   "metadata": {},
   "outputs": [],
   "source": [
    "splittedTxt = mx.challenge['txtFile'].replace('        ', '').replace(' ','\\n').split('\\n')"
   ]
  },
  {
   "cell_type": "markdown",
   "metadata": {},
   "source": [
    "##### Processing input textFile"
   ]
  },
  {
   "cell_type": "code",
   "execution_count": 13,
   "metadata": {},
   "outputs": [],
   "source": [
    "def process_input_text_file(txtFile):\n",
    "    splittedTxt = txtFile.replace('        ', '').replace(' ','\\n').split('\\n')\n",
    "    listDict = []\n",
    "    test = {}\n",
    "    for string in splittedTxt:\n",
    "        if (string == ''):\n",
    "            listDict.append(test)\n",
    "            test = {}\n",
    "        else:\n",
    "            [key, value] = string.split(':')\n",
    "            test[key] = value\n",
    "    return listDict\n",
    "\n",
    "listDict = process_input_text_file(mx.challenge['txtFile'])"
   ]
  },
  {
   "cell_type": "code",
   "execution_count": 14,
   "metadata": {},
   "outputs": [
    {
     "data": {
      "text/plain": [
       "[{'hgt': '159cm',\n",
       "  'pid': '561068005',\n",
       "  'eyr': '2025',\n",
       "  'iyr': '2017',\n",
       "  'cid': '139',\n",
       "  'ecl': 'blu',\n",
       "  'hcl': '#ceb3a1',\n",
       "  'byr': '1940'},\n",
       " {'iyr': '2014',\n",
       "  'byr': '1986',\n",
       "  'pid': '960679613',\n",
       "  'eyr': '2025',\n",
       "  'ecl': 'hzl'}]"
      ]
     },
     "execution_count": 14,
     "metadata": {},
     "output_type": "execute_result"
    }
   ],
   "source": [
    "listDict[0:2]"
   ]
  },
  {
   "cell_type": "markdown",
   "metadata": {},
   "source": [
    "#### Processing and validating data"
   ]
  },
  {
   "cell_type": "code",
   "execution_count": 15,
   "metadata": {},
   "outputs": [
    {
     "name": "stdout",
     "output_type": "stream",
     "text": [
      "192 hgt 3\n",
      "invalid literal for int() with base 10: '186cm' 186cm pid 25\n",
      "invalid literal for int() with base 10: '#4e4a46' #4e4a46 pid 38\n",
      "invalid literal for int() with base 10: '#ab3597' #ab3597 pid 48\n",
      "invalid literal for int() with base 10: '#5b1362' #5b1362 pid 180\n",
      "invalid literal for int() with base 10: '174cm' 174cm pid 189\n",
      "96 hgt 200\n",
      "136 hgt 210\n",
      "invalid literal for int() with base 10: '#885c1a' #885c1a pid 228\n"
     ]
    }
   ],
   "source": [
    "import re\n",
    "\n",
    "def validate_value(value, typo, idx):\n",
    "    try:\n",
    "        # byr (Birth Year) - four digits; at least 1920 and at most 2002.\n",
    "        if (typo == 'byr'):\n",
    "            return (len(value) == 4 and (int(value) > 1919) and (int(value) < 2003))\n",
    "\n",
    "        # iyr (Issue Year) - four digits; at least 2010 and at most 2020.\n",
    "        elif (typo == 'iyr'):\n",
    "            return (len(value) == 4) and (int(value) > 2009) and (int(value) < 2021)\n",
    "\n",
    "        # eyr (Expiration Year) - four digits; at least 2020 and at most 2030.\n",
    "        elif (typo == 'eyr'):\n",
    "            return (len(value) == 4) and (int(value) > 2019) and (int(value) < 2031)\n",
    "        \n",
    "        # hgt (Height) - a number followed by either cm or in:\n",
    "        #   If cm, the number must be at least 150 and at most 193.\n",
    "        #   If in, the number must be at least 59 and at most 76.\n",
    "        elif (typo == 'hgt'):\n",
    "            if (\"cm\" in value):\n",
    "                heightInt = int(value.replace('cm',''))\n",
    "                return heightInt > 149 and heightInt < 194\n",
    "            elif (\"in\" in value):\n",
    "                heightInt = int(value.replace('in',''))\n",
    "                return heightInt > 58 and heightInt < 77\n",
    "            \n",
    "        # hcl (Hair Color) - a # followed by exactly six characters 0-9 or a-f.\n",
    "        elif (typo == 'hcl'):\n",
    "            return bool(re.match(r'^#(?:[0-9a-fA-F]{3}){1,2}$', value))\n",
    "        \n",
    "        # ecl (Eye Color) - exactly one of: amb blu brn gry grn hzl oth.\n",
    "        elif (typo == 'ecl'):\n",
    "            return (value in ['amb', 'blu', 'brn', 'gry', 'grn', 'hzl', 'oth'])\n",
    "        \n",
    "        # pid (Passport ID) - a nine-digit number, including leading zeroes.\n",
    "        elif (typo == 'pid'):\n",
    "            numericValue = int(value)\n",
    "            return len(value) == 9\n",
    "        \n",
    "        elif (typo == 'cid'):\n",
    "            return True\n",
    "        \n",
    "        \n",
    "        print(value, typo, idx)\n",
    "        return False\n",
    "\n",
    "    except Exception as e:\n",
    "        print(e, value, typo, idx)\n",
    "        return False\n",
    "\n",
    "def validate_list_values(passport, idx):\n",
    "    for (typo, value) in zip(passport.values(), passport.keys()):\n",
    "        if not validate_value(typo, value, idx):\n",
    "            return False\n",
    "\n",
    "    return True\n",
    "\n",
    "def find_valid_passports(listPassports):\n",
    "    return [idx for idx, passport in enumerate(listPassports) if set(['byr', 'iyr', 'eyr', 'hgt', 'hcl', 'ecl', 'pid']).issubset(passport.keys()) and validate_list_values(passport, idx)]\n",
    "\n",
    "indicies = find_valid_passports(listDict)"
   ]
  },
  {
   "cell_type": "code",
   "execution_count": 16,
   "metadata": {},
   "outputs": [
    {
     "data": {
      "text/plain": [
       "137"
      ]
     },
     "execution_count": 16,
     "metadata": {},
     "output_type": "execute_result"
    }
   ],
   "source": [
    "len(indicies)"
   ]
  },
  {
   "cell_type": "markdown",
   "metadata": {},
   "source": [
    "#### Fifth challenge"
   ]
  },
  {
   "cell_type": "code",
   "execution_count": 17,
   "metadata": {},
   "outputs": [
    {
     "data": {
      "text/plain": [
       "900"
      ]
     },
     "execution_count": 17,
     "metadata": {},
     "output_type": "execute_result"
    }
   ],
   "source": [
    "len(mx.challenge['seatList'])"
   ]
  },
  {
   "cell_type": "code",
   "execution_count": 18,
   "metadata": {},
   "outputs": [
    {
     "data": {
      "text/plain": [
       "'BFFFFBBRRL'"
      ]
     },
     "execution_count": 18,
     "metadata": {},
     "output_type": "execute_result"
    }
   ],
   "source": [
    "mx.challenge['seatList'][0]"
   ]
  },
  {
   "cell_type": "code",
   "execution_count": 19,
   "metadata": {},
   "outputs": [],
   "source": [
    "def get_seat_id_list(seatList):\n",
    "    rowIds = []\n",
    "    for seatMap in seatList:\n",
    "        rowPossibilities = list(range(0, 128))\n",
    "        colPossibilities = list(range(0, 8))\n",
    "        for coord in seatMap:\n",
    "            if (coord == 'F'):\n",
    "                comp = int(len(rowPossibilities) / 2 )\n",
    "                rowPossibilities = rowPossibilities[0 : comp]\n",
    "            elif (coord == 'B'):\n",
    "                comp = int(len(rowPossibilities) / 2 )\n",
    "                rowPossibilities = rowPossibilities[comp:]\n",
    "            elif (coord == 'L'):\n",
    "                comp = int(len(colPossibilities) / 2 )\n",
    "                colPossibilities = colPossibilities[:comp]\n",
    "            elif (coord == 'R'):\n",
    "                comp = int(len(colPossibilities) / 2 )\n",
    "                colPossibilities = colPossibilities[comp:]\n",
    "        rowIds.append((rowPossibilities[0]*8) + colPossibilities[0])\n",
    "    return rowIds\n",
    "        \n",
    "rowIds = get_seat_id_list(mx.challenge['seatList'])"
   ]
  },
  {
   "cell_type": "code",
   "execution_count": 20,
   "metadata": {},
   "outputs": [
    {
     "data": {
      "text/plain": [
       "989"
      ]
     },
     "execution_count": 20,
     "metadata": {},
     "output_type": "execute_result"
    }
   ],
   "source": [
    "max(rowIds)"
   ]
  },
  {
   "cell_type": "markdown",
   "metadata": {},
   "source": [
    "#### Fifth challenge part II"
   ]
  },
  {
   "cell_type": "code",
   "execution_count": 21,
   "metadata": {},
   "outputs": [],
   "source": [
    "rowIds.sort()"
   ]
  },
  {
   "cell_type": "code",
   "execution_count": 22,
   "metadata": {},
   "outputs": [
    {
     "data": {
      "text/plain": [
       "900"
      ]
     },
     "execution_count": 22,
     "metadata": {},
     "output_type": "execute_result"
    }
   ],
   "source": [
    "len(rowIds)"
   ]
  },
  {
   "cell_type": "code",
   "execution_count": 23,
   "metadata": {},
   "outputs": [
    {
     "name": "stdout",
     "output_type": "stream",
     "text": [
      "549 548 459\n"
     ]
    }
   ],
   "source": [
    "for idx, idRow in enumerate(rowIds):\n",
    "    if (idRow != idx + 89):\n",
    "        print(idRow, idx + 89, idx)\n",
    "        break"
   ]
  },
  {
   "cell_type": "code",
   "execution_count": 24,
   "metadata": {},
   "outputs": [
    {
     "data": {
      "text/plain": [
       "[547, 549]"
      ]
     },
     "execution_count": 24,
     "metadata": {},
     "output_type": "execute_result"
    }
   ],
   "source": [
    "rowIds[458:460]"
   ]
  },
  {
   "cell_type": "markdown",
   "metadata": {},
   "source": [
    "### Sixth Challenge"
   ]
  },
  {
   "cell_type": "code",
   "execution_count": 25,
   "metadata": {},
   "outputs": [
    {
     "data": {
      "text/plain": [
       "'jmcvr\\n        marvj\\n\\n        doh\\n        kdrmulsg\\n        ypde\\n        eyodf\\n        d\\n\\n        gneq'"
      ]
     },
     "execution_count": 25,
     "metadata": {},
     "output_type": "execute_result"
    }
   ],
   "source": [
    "mx.challenge['textInputQuestions'][0:100]"
   ]
  },
  {
   "cell_type": "code",
   "execution_count": 26,
   "metadata": {},
   "outputs": [],
   "source": [
    "def process_input_question_txt(textInputQuestions):\n",
    "    listQuestionsRaw = textInputQuestions.replace('        ', '').replace(' ','\\n').split('\\n')\n",
    "    groupAnswers = ''\n",
    "    listQuestionsGrouped = []\n",
    "    for answers in listQuestionsRaw:\n",
    "        if (answers == ''):\n",
    "            listNoDuplicates = list(set(groupAnswers))\n",
    "            listQuestionsGrouped.append(listNoDuplicates)\n",
    "            groupAnswers = ''\n",
    "        else:\n",
    "            groupAnswers = groupAnswers + answers\n",
    "    return listQuestionsGrouped\n",
    "\n",
    "finalQuestionsList = process_input_question_txt(mx.challenge['textInputQuestions'])"
   ]
  },
  {
   "cell_type": "code",
   "execution_count": 27,
   "metadata": {},
   "outputs": [
    {
     "data": {
      "text/plain": [
       "[['a', 'r', 'v', 'm', 'j', 'c'],\n",
       " ['g', 'f', 'l', 'r', 'u', 'y', 'm', 's', 'k', 'o', 'h', 'e', 'p', 'd']]"
      ]
     },
     "execution_count": 27,
     "metadata": {},
     "output_type": "execute_result"
    }
   ],
   "source": [
    "finalQuestionsList[0:2]"
   ]
  },
  {
   "cell_type": "code",
   "execution_count": 28,
   "metadata": {},
   "outputs": [
    {
     "name": "stdout",
     "output_type": "stream",
     "text": [
      "6170\n"
     ]
    }
   ],
   "source": [
    "summarize = reduce(lambda x, y: x+y, [len(questions) for questions in finalQuestionsList])\n",
    "print(summarize)"
   ]
  },
  {
   "cell_type": "markdown",
   "metadata": {},
   "source": [
    "#### Sixth Challenge part II"
   ]
  },
  {
   "cell_type": "code",
   "execution_count": 29,
   "metadata": {},
   "outputs": [],
   "source": [
    "def process_input_question_txt_intersection(textInputQuestions):\n",
    "    listQuestionsRaw = textInputQuestions.replace('        ', '').replace(' ','\\n').split('\\n')\n",
    "    groupAnswers = []\n",
    "    listQuestionsGrouped = []\n",
    "    for answers in listQuestionsRaw:\n",
    "        if (answers == ''):\n",
    "            intersection = reduce(set.intersection, groupAnswers)\n",
    "            listQuestionsGrouped.append(list(intersection))\n",
    "            groupAnswers = []\n",
    "        else:\n",
    "            groupAnswers.append(set(answers))\n",
    "    return listQuestionsGrouped\n",
    "\n",
    "finalQuestionsListIntersection = process_input_question_txt_intersection(mx.challenge['textInputQuestions'])"
   ]
  },
  {
   "cell_type": "code",
   "execution_count": 30,
   "metadata": {},
   "outputs": [
    {
     "data": {
      "text/plain": [
       "[['j', 'v', 'm', 'r'], ['d']]"
      ]
     },
     "execution_count": 30,
     "metadata": {},
     "output_type": "execute_result"
    }
   ],
   "source": [
    "finalQuestionsListIntersection[0:2]"
   ]
  },
  {
   "cell_type": "code",
   "execution_count": 31,
   "metadata": {},
   "outputs": [
    {
     "name": "stdout",
     "output_type": "stream",
     "text": [
      "2947\n"
     ]
    }
   ],
   "source": [
    "summarizeIntersection = reduce(lambda x, y: x+y, [len(questions) for questions in finalQuestionsListIntersection])\n",
    "print(summarizeIntersection)"
   ]
  },
  {
   "cell_type": "markdown",
   "metadata": {},
   "source": [
    "### Seventh Challenge"
   ]
  },
  {
   "cell_type": "code",
   "execution_count": 32,
   "metadata": {},
   "outputs": [
    {
     "data": {
      "text/plain": [
       "['dim silver bags contain 3 posh fuchsia bags',\n",
       " 'wavy olive bags contain 1 striped olive bag, 1 dull cyan bag',\n",
       " 'dull coral bags contain 1 dim olive bag, 5 muted violet bags, 2 dark gray bags']"
      ]
     },
     "execution_count": 32,
     "metadata": {},
     "output_type": "execute_result"
    }
   ],
   "source": [
    "mx.challenge['bags'][0:3]"
   ]
  },
  {
   "cell_type": "code",
   "execution_count": 33,
   "metadata": {},
   "outputs": [],
   "source": [
    "def create_dict_bags(listAttr):\n",
    "    dictBagInstructions = {}\n",
    "    for att in listAttr:\n",
    "        number = re.findall(r'\\d+', att)\n",
    "        bagName = re.sub(\"^\\d+\\s|\\s\\d+\\s|\\s\\d+$\", \"\", att).replace(' bags', '').replace(' bag', '')\n",
    "        \n",
    "        if(len(number) == 0):\n",
    "            dictBagInstructions['name'] = bagName\n",
    "        else:\n",
    "            try:\n",
    "                dictBagInstructions['bags'][bagName] = int(number[0])\n",
    "            except:\n",
    "                dictBagInstructions['bags'] = {}\n",
    "                dictBagInstructions['bags'][bagName] = int(number[0])\n",
    "\n",
    "    return dictBagInstructions\n",
    "\n",
    "\n",
    "def create_dic_bag_list(bagsRulesTxt):\n",
    "    return [create_dict_bags(bagTxt.replace(' bags contain no other bags', '').replace(' bags contain ', ',').split(',')) for bagTxt in bagsRulesTxt]\n"
   ]
  },
  {
   "cell_type": "code",
   "execution_count": 37,
   "metadata": {},
   "outputs": [],
   "source": [
    "bgNetwork =create_dic_bag_list( mx.challenge['bags'])"
   ]
  },
  {
   "cell_type": "code",
   "execution_count": 38,
   "metadata": {},
   "outputs": [],
   "source": [
    "def checkAttr(obj, attr):\n",
    "    try:\n",
    "        return obj[attr]\n",
    "    except:\n",
    "        return {}\n",
    "\n",
    "def find_my_bag(bagDictionary, bagName):\n",
    "    return next((x for x in bagDictionary if x['name'] == bagName), None)\n",
    "\n",
    "def path_to_bag(bagDictionary, source, destination):\n",
    "    if source == destination:\n",
    "        return [destination]\n",
    "    else:\n",
    "        bagFound = find_my_bag(bagDictionary, source)\n",
    "        for new_source in list(checkAttr(bagFound, 'bags').keys()):\n",
    "            \n",
    "            sub_path = path_to_bag(bagDictionary, new_source, destination)\n",
    "            if sub_path is not None:\n",
    "                return [source] + sub_path\n",
    "\n",
    "            \n",
    "def count_paths_to_bag(bagDictionary, bag):\n",
    "    paths = []\n",
    "    for bagData in bagDictionary:\n",
    "        path = path_to_bag(bagDictionary, bagData['name'], bag)\n",
    "        if path is not None:\n",
    "            paths.append(path)\n",
    "            \n",
    "    return paths"
   ]
  },
  {
   "cell_type": "code",
   "execution_count": 39,
   "metadata": {},
   "outputs": [],
   "source": [
    "paths = count_paths_to_bag(bgNetwork, 'shiny gold')"
   ]
  },
  {
   "cell_type": "code",
   "execution_count": 40,
   "metadata": {},
   "outputs": [
    {
     "data": {
      "text/plain": [
       "[(['shiny gold'], 222)]"
      ]
     },
     "execution_count": 40,
     "metadata": {},
     "output_type": "execute_result"
    }
   ],
   "source": [
    "[(strPath,idx) for idx, strPath in enumerate(paths) if strPath[0] == 'shiny gold']"
   ]
  },
  {
   "cell_type": "code",
   "execution_count": 41,
   "metadata": {},
   "outputs": [
    {
     "data": {
      "text/plain": [
       "336"
      ]
     },
     "execution_count": 41,
     "metadata": {},
     "output_type": "execute_result"
    }
   ],
   "source": [
    "# as seen before i counted the shiny wrongly so should remove 1 from total\n",
    "len(paths)"
   ]
  },
  {
   "cell_type": "markdown",
   "metadata": {},
   "source": [
    "#### Seventh Challenge Part II"
   ]
  },
  {
   "cell_type": "code",
   "execution_count": 42,
   "metadata": {},
   "outputs": [],
   "source": [
    "def checkAttr(obj, attr):\n",
    "    try:\n",
    "        return obj[attr]\n",
    "    except:\n",
    "        return {}\n",
    "\n",
    "def find_my_bag(bagDictionary, bagName):\n",
    "    return next((x for x in bagDictionary if x['name'] == bagName), None)\n",
    "\n",
    "def path_to_bag(bagDictionary, source, destination):\n",
    "    if source == destination:\n",
    "        return [destination]\n",
    "    else:\n",
    "        bagFound = find_my_bag(bagDictionary, source)\n",
    "        for new_source in list(checkAttr(bagFound, 'bags').keys()):\n",
    "            \n",
    "            sub_path = path_to_bag(bagDictionary, new_source, destination)\n",
    "            if sub_path is not None:\n",
    "                return [source] + sub_path\n",
    "\n",
    "            \n",
    "def count_paths_to_bag(bagDictionary, bag):\n",
    "    paths = []\n",
    "    for bagData in bagDictionary:\n",
    "        path = path_to_bag(bagDictionary, bagData['name'], bag)\n",
    "        if path is not None:\n",
    "            paths.append(path)\n",
    "            \n",
    "    return paths\n",
    "\n"
   ]
  },
  {
   "cell_type": "code",
   "execution_count": 43,
   "metadata": {},
   "outputs": [
    {
     "data": {
      "text/plain": [
       "[{'name': 'dim silver', 'bags': {'posh fuchsia': 3}},\n",
       " {'name': 'wavy olive', 'bags': {'striped olive': 1, 'dull cyan': 1}},\n",
       " {'name': 'dull coral',\n",
       "  'bags': {'dim olive': 1, 'muted violet': 5, 'dark gray': 2}}]"
      ]
     },
     "execution_count": 43,
     "metadata": {},
     "output_type": "execute_result"
    }
   ],
   "source": [
    "bgNetwork[0:3]"
   ]
  },
  {
   "cell_type": "code",
   "execution_count": 44,
   "metadata": {},
   "outputs": [],
   "source": [
    "bagsDictList = create_dic_bag_list(mx.challenge['bags'])"
   ]
  },
  {
   "cell_type": "code",
   "execution_count": 45,
   "metadata": {},
   "outputs": [
    {
     "data": {
      "text/plain": [
       "[{'name': 'dim silver', 'bags': {'posh fuchsia': 3}},\n",
       " {'name': 'wavy olive', 'bags': {'striped olive': 1, 'dull cyan': 1}},\n",
       " {'name': 'dull coral',\n",
       "  'bags': {'dim olive': 1, 'muted violet': 5, 'dark gray': 2}},\n",
       " {'name': 'bright olive', 'bags': {'light indigo': 3, 'dark coral': 3}},\n",
       " {'name': 'clear lavender', 'bags': {'dark olive': 1}},\n",
       " {'name': 'dim lime', 'bags': {'dotted red': 3}},\n",
       " {'name': 'drab indigo', 'bags': {'striped coral': 5, 'muted bronze': 2}},\n",
       " {'name': 'striped orange',\n",
       "  'bags': {'wavy fuchsia': 5, 'clear red': 5, 'plaid red': 3}}]"
      ]
     },
     "execution_count": 45,
     "metadata": {},
     "output_type": "execute_result"
    }
   ],
   "source": [
    "bagsDictList[0:8]"
   ]
  },
  {
   "cell_type": "code",
   "execution_count": 46,
   "metadata": {},
   "outputs": [],
   "source": [
    "def path_to_end_bag(bagDictionary, source):\n",
    "    bagFound = find_my_bag(bagDictionary, source)\n",
    "    keys = list(checkAttr(bagFound, 'bags').keys())\n",
    "    values = list(checkAttr(bagFound, 'bags').values())\n",
    "    if (len(keys)):\n",
    "        return sum([value + value*path_to_end_bag(bagDictionary, new_source) for new_source, value in zip(keys, values)])\n",
    "    else:\n",
    "        return 0"
   ]
  },
  {
   "cell_type": "code",
   "execution_count": 47,
   "metadata": {},
   "outputs": [
    {
     "data": {
      "text/plain": [
       "2431"
      ]
     },
     "execution_count": 47,
     "metadata": {},
     "output_type": "execute_result"
    }
   ],
   "source": [
    "path_to_end_bag(bagsDictList, 'shiny gold')"
   ]
  },
  {
   "cell_type": "markdown",
   "metadata": {},
   "source": [
    "#### Eighth Challenge"
   ]
  },
  {
   "cell_type": "code",
   "execution_count": 295,
   "metadata": {},
   "outputs": [
    {
     "data": {
      "text/plain": [
       "['jmp +11',\n",
       " 'nop +495',\n",
       " 'nop +402',\n",
       " 'jmp +570',\n",
       " 'jmp +569',\n",
       " 'jmp +451',\n",
       " 'acc -12',\n",
       " 'jmp +364',\n",
       " 'acc +30',\n",
       " 'acc +21',\n",
       " 'jmp +430',\n",
       " 'jmp +87']"
      ]
     },
     "execution_count": 295,
     "metadata": {},
     "output_type": "execute_result"
    }
   ],
   "source": [
    "mx.challenge['instructions'][0:12]"
   ]
  },
  {
   "cell_type": "code",
   "execution_count": 49,
   "metadata": {},
   "outputs": [],
   "source": [
    "def create_dict_instructions(listInstruction):\n",
    "     return [ inst.split(' ') + [False] for inst in listInstruction]"
   ]
  },
  {
   "cell_type": "code",
   "execution_count": 246,
   "metadata": {},
   "outputs": [],
   "source": [
    "listInst = create_dict_instructions(newInput)"
   ]
  },
  {
   "cell_type": "code",
   "execution_count": 240,
   "metadata": {},
   "outputs": [
    {
     "name": "stdout",
     "output_type": "stream",
     "text": [
      "1915\n"
     ]
    }
   ],
   "source": [
    "acc = 0\n",
    "idx = 0\n",
    "repeated = False\n",
    "while not repeated:\n",
    "    [inst, number, visited] = listInst[idx]\n",
    "            \n",
    "    if (visited):\n",
    "        repeated = True\n",
    "    else:\n",
    "        listInst[idx] = [inst, number, True]\n",
    "        \n",
    "        if ('jmp' in inst):\n",
    "            idx = idx + int(number) - 1\n",
    "\n",
    "        if ('acc' in inst):\n",
    "            acc = acc + int(number)\n",
    "\n",
    "        \n",
    "    idx += 1\n",
    "\n",
    "print(acc)"
   ]
  },
  {
   "cell_type": "markdown",
   "metadata": {},
   "source": [
    "#### Eighth Challenge Part II"
   ]
  },
  {
   "cell_type": "code",
   "execution_count": 241,
   "metadata": {},
   "outputs": [],
   "source": [
    "def find_int_idx(lst, inst):\n",
    "    return [idx for idx,value in enumerate(lst) if inst == value[0]]"
   ]
  },
  {
   "cell_type": "code",
   "execution_count": 247,
   "metadata": {},
   "outputs": [],
   "source": [
    "nopIndx = find_int_idx(listInst, 'nop')\n",
    "jmpIndx = find_int_idx(listInst, 'jmp')"
   ]
  },
  {
   "cell_type": "code",
   "execution_count": 306,
   "metadata": {},
   "outputs": [],
   "source": [
    "def swap_inst_by_idx(lstInst, idx):\n",
    "    [inst, number, visited] = lstInst[idx]\n",
    "    if (inst == 'jmp'):\n",
    "        inst = 'nop'\n",
    "    else:\n",
    "        inst = 'jmp'\n",
    "\n",
    "    lstInst[idx] = [inst, number, False]\n",
    "    return lstInst\n",
    "\n",
    "def find_wrong_inst(instructionList, possibleWrongIdx):\n",
    "    copyList = instructionList.copy()\n",
    "\n",
    "    acc = 0\n",
    "    oldAcc = 0\n",
    "    idx = 0\n",
    "    idxWrongList = 0\n",
    "    \n",
    "    continueLoop = True\n",
    "    copyList = swap_inst_by_idx(copyList, possibleWrongIdx[idxWrongList])\n",
    "    \n",
    "    while continueLoop:\n",
    "        [inst, number, visited] = copyList[idx]\n",
    "\n",
    "        if (visited):\n",
    "            copyList = instructionList.copy()\n",
    "            idx = 0\n",
    "            oldAcc = acc\n",
    "            acc = 0\n",
    "            idxWrongList += 1\n",
    "            \n",
    "            if(idxWrongList == len(possibleWrongIdx)):\n",
    "                continueLoop = False\n",
    "                print('Not Found')\n",
    "            else:\n",
    "                copyList = swap_inst_by_idx(copyList, possibleWrongIdx[idxWrongList])\n",
    "            \n",
    "        else:\n",
    "            copyList[idx] = [inst, number, True]\n",
    "\n",
    "            if ('jmp' in inst):\n",
    "                idx += int(number) - 1\n",
    "\n",
    "            if ('acc' in inst):\n",
    "                acc += int(number)\n",
    "                \n",
    "            idx += 1 # careful. dont increment it if you should not !\n",
    "            \n",
    "            \n",
    "            \n",
    "        if(idx == len(copyList)):\n",
    "            continueLoop = False\n",
    "            print('Found!', 'acc:', acc, 'oldAcc:', oldAcc,'wrong Instruction:', instructionList[possibleWrongIdx[idxWrongList]], 'index:', possibleWrongIdx[idxWrongList])\n",
    "\n"
   ]
  },
  {
   "cell_type": "code",
   "execution_count": 307,
   "metadata": {},
   "outputs": [],
   "source": [
    "listInst[447] = ['jmp', '-46', False]"
   ]
  },
  {
   "cell_type": "code",
   "execution_count": 308,
   "metadata": {},
   "outputs": [
    {
     "name": "stdout",
     "output_type": "stream",
     "text": [
      "Found! acc: 944 oldAcc: 1915 wrong Instruction: ['jmp', '-46', False] index: 447\n"
     ]
    }
   ],
   "source": [
    "find_wrong_inst(listInst, jmpIndx)"
   ]
  },
  {
   "cell_type": "code",
   "execution_count": 258,
   "metadata": {},
   "outputs": [
    {
     "name": "stdout",
     "output_type": "stream",
     "text": [
      "Not Found\n"
     ]
    }
   ],
   "source": [
    "find_wrong_inst(listInst, nopIndx)"
   ]
  },
  {
   "cell_type": "markdown",
   "metadata": {},
   "source": [
    "### Ninth Challenge"
   ]
  },
  {
   "cell_type": "code",
   "execution_count": 4,
   "metadata": {},
   "outputs": [],
   "source": [
    "with open('./9-input/input.txt') as inputFile:\n",
    "    cumulativeSumList = inputFile.read().splitlines()"
   ]
  },
  {
   "cell_type": "code",
   "execution_count": 5,
   "metadata": {},
   "outputs": [
    {
     "data": {
      "text/plain": [
       "['10', '17', '1', '42']"
      ]
     },
     "execution_count": 5,
     "metadata": {},
     "output_type": "execute_result"
    }
   ],
   "source": [
    "cumulativeSumList[0:4]"
   ]
  },
  {
   "cell_type": "code",
   "execution_count": 6,
   "metadata": {},
   "outputs": [],
   "source": [
    "def rotate(l, n):\n",
    "    return l[n:] + l[:n]\n",
    "\n",
    "def sum_two_lists(l1, l2):\n",
    "    return [int(l1[i]) + int(l2[i]) for i in range(len(l1))]\n",
    "\n",
    "def create_list_sums(cumulativeSumList):\n",
    "    return [sum_two_lists(cumulativeSumList, rotate(cumulativeSumList, n)) for n in range(1,len(cumulativeSumList))]\n",
    "\n",
    "def validate_sum(l, v):\n",
    "    possibleSums = create_list_sums(l)\n",
    "    return [(True, rotation) for rotation, lstSum in enumerate(possibleSums) if (int(v) in lstSum)]"
   ]
  },
  {
   "cell_type": "code",
   "execution_count": 7,
   "metadata": {},
   "outputs": [],
   "source": [
    "def search_xmas_list(l):\n",
    "    return [n for n in range(25, len(l)) if (len(validate_sum(l[(n-25):n], l[n])) == 0) ]"
   ]
  },
  {
   "cell_type": "code",
   "execution_count": 8,
   "metadata": {},
   "outputs": [
    {
     "data": {
      "text/plain": [
       "[553]"
      ]
     },
     "execution_count": 8,
     "metadata": {},
     "output_type": "execute_result"
    }
   ],
   "source": [
    "search_xmas_list(cumulativeSumList)"
   ]
  },
  {
   "cell_type": "code",
   "execution_count": 9,
   "metadata": {},
   "outputs": [
    {
     "data": {
      "text/plain": [
       "'85848519'"
      ]
     },
     "execution_count": 9,
     "metadata": {},
     "output_type": "execute_result"
    }
   ],
   "source": [
    "cumulativeSumList[553]"
   ]
  },
  {
   "cell_type": "markdown",
   "metadata": {},
   "source": [
    "#### Ninth Challenge Part II"
   ]
  },
  {
   "cell_type": "code",
   "execution_count": 10,
   "metadata": {},
   "outputs": [],
   "source": [
    "## cleaning numbers bigger then our answer\n",
    "def remove_greather_equeal_then(l, k):\n",
    "    return [v for v in l if(int(v) < int(k))]\n",
    "\n",
    "cList = remove_greather_equeal_then(cumulativeSumList, '85848519')"
   ]
  },
  {
   "cell_type": "code",
   "execution_count": 11,
   "metadata": {},
   "outputs": [
    {
     "data": {
      "text/plain": [
       "(1000, 542, '9992384')"
      ]
     },
     "execution_count": 11,
     "metadata": {},
     "output_type": "execute_result"
    }
   ],
   "source": [
    "len(cumulativeSumList), len(cList), max(cList)"
   ]
  },
  {
   "cell_type": "code",
   "execution_count": 12,
   "metadata": {},
   "outputs": [
    {
     "data": {
      "text/plain": [
       "'85070271'"
      ]
     },
     "execution_count": 12,
     "metadata": {},
     "output_type": "execute_result"
    }
   ],
   "source": [
    "cList[-1]"
   ]
  },
  {
   "cell_type": "code",
   "execution_count": 13,
   "metadata": {},
   "outputs": [],
   "source": [
    "def sum_multiple_lists(l1):\n",
    "    return [sum([int(s) for s in w]) for w in zip(*l1)]\n",
    "\n",
    "def create_rotated_lists(l, s, r):\n",
    "    if (s == 0):\n",
    "        return [l]\n",
    "    return create_rotated_lists(l, s -1, r) + [rotate(l, s+r)]\n",
    "\n",
    "def create_all_sum_possibilities(l, s):\n",
    "    rNumber = int(len(l)/2)\n",
    "    return [create_rotated_lists(l, s, r) for r in range(0, rNumber)]\n",
    "\n",
    "def calculate_multiple_rotations_sums_and_find_value(l, v):\n",
    "    for i in range(1, len(l)):\n",
    "        sumLists = create_all_sum_possibilities(l, i)\n",
    "        resultsList = [sum_multiple_lists(combination) for combination in sumLists]\n",
    "        finalResul = [(idx, result.index(v)) for idx, result in enumerate(resultsList) if (int(v) in result)]\n",
    "        if(len(finalResul)):\n",
    "            return [nums[finalResul[0][1]]for nums in sumLists[finalResul[0][0]]] "
   ]
  },
  {
   "cell_type": "code",
   "execution_count": 15,
   "metadata": {},
   "outputs": [
    {
     "name": "stdout",
     "output_type": "stream",
     "text": [
      "Answer: 9992384 3421814 13414198\n"
     ]
    }
   ],
   "source": [
    "strValue = calculate_multiple_rotations_sums_and_find_value(cList, 85848519)\n",
    "intResult = [int(valor) for valor in strValue]\n",
    "print('Answer:', max(intResult), min(intResult), max(intResult) + min(intResult))"
   ]
  },
  {
   "cell_type": "markdown",
   "metadata": {},
   "source": [
    "#### Tenth Challenge"
   ]
  },
  {
   "cell_type": "code",
   "execution_count": 37,
   "metadata": {},
   "outputs": [],
   "source": [
    "with open('./10-input/input.txt') as inputFile:\n",
    "    adRateStr = inputFile.read().splitlines()\n",
    "adRateInt = [int(v) for v in adRateStr]\n",
    "adRateInt.sort()"
   ]
  },
  {
   "cell_type": "code",
   "execution_count": 38,
   "metadata": {},
   "outputs": [
    {
     "data": {
      "text/plain": [
       "[1, 2, 3, 6, 9, 12, 13, 14]"
      ]
     },
     "execution_count": 38,
     "metadata": {},
     "output_type": "execute_result"
    }
   ],
   "source": [
    "adRateInt[0:8]"
   ]
  },
  {
   "cell_type": "code",
   "execution_count": 39,
   "metadata": {},
   "outputs": [],
   "source": [
    "def process_next_jump(v, nv):\n",
    "    if((nv - v) == 1):\n",
    "        return [v, nv, 1]\n",
    "    if((nv - v) == 2):\n",
    "        return [v, nv, 2]\n",
    "    if((nv - v) == 3):\n",
    "        return [v, nv, 3]\n",
    "    \n",
    "def create_list_jumps(l):\n",
    "    return [process_next_jump(v, l[idx+1]) for idx,v in enumerate(l) if (idx < len(l) - 1)]"
   ]
  },
  {
   "cell_type": "code",
   "execution_count": 57,
   "metadata": {},
   "outputs": [],
   "source": [
    "jumpsList = create_list_jumps(adRateInt)"
   ]
  },
  {
   "cell_type": "code",
   "execution_count": 58,
   "metadata": {},
   "outputs": [],
   "source": [
    "def count_triple_and_single_jump(jl):\n",
    "    single = 0\n",
    "    triple = 0\n",
    "    for jump in jl:\n",
    "        if(jump[2] == 1):\n",
    "            single += 1\n",
    "        if(jump[2] == 3):\n",
    "            triple += 1\n",
    "    return single, triple"
   ]
  },
  {
   "cell_type": "code",
   "execution_count": 59,
   "metadata": {},
   "outputs": [],
   "source": [
    "f, t = count_triple_and_single_jump(jumpsList)"
   ]
  },
  {
   "cell_type": "code",
   "execution_count": 60,
   "metadata": {},
   "outputs": [
    {
     "name": "stdout",
     "output_type": "stream",
     "text": [
      "Answer: 2574\n"
     ]
    }
   ],
   "source": [
    "print('Answer:', (f+1) * (t+1))"
   ]
  },
  {
   "cell_type": "code",
   "execution_count": null,
   "metadata": {},
   "outputs": [],
   "source": []
  },
  {
   "cell_type": "code",
   "execution_count": 56,
   "metadata": {},
   "outputs": [
    {
     "data": {
      "text/plain": [
       "(21, 9)"
      ]
     },
     "execution_count": 56,
     "metadata": {},
     "output_type": "execute_result"
    }
   ],
   "source": [
    "f, t"
   ]
  },
  {
   "cell_type": "code",
   "execution_count": 44,
   "metadata": {},
   "outputs": [],
   "source": [
    "testList = [\n",
    "28,\n",
    "33,\n",
    "18,\n",
    "42,\n",
    "31,\n",
    "14,\n",
    "46,\n",
    "20,\n",
    "48,\n",
    "47,\n",
    "24,\n",
    "23,\n",
    "49,\n",
    "45,\n",
    "19,\n",
    "38,\n",
    "39,\n",
    "11,\n",
    "1,\n",
    "32,\n",
    "25,\n",
    "35,\n",
    "8,\n",
    "17,\n",
    "7,\n",
    "9,\n",
    "4,\n",
    "2,\n",
    "34,\n",
    "10,\n",
    "3]"
   ]
  },
  {
   "cell_type": "code",
   "execution_count": null,
   "metadata": {},
   "outputs": [],
   "source": []
  }
 ],
 "metadata": {
  "kernelspec": {
   "display_name": "Python 3",
   "language": "python",
   "name": "python3"
  },
  "language_info": {
   "codemirror_mode": {
    "name": "ipython",
    "version": 3
   },
   "file_extension": ".py",
   "mimetype": "text/x-python",
   "name": "python",
   "nbconvert_exporter": "python",
   "pygments_lexer": "ipython3",
   "version": "3.6.9"
  }
 },
 "nbformat": 4,
 "nbformat_minor": 4
}
